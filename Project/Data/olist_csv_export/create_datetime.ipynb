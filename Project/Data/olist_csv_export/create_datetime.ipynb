{
 "cells": [
  {
   "cell_type": "code",
   "execution_count": 2,
   "id": "bbb927be",
   "metadata": {},
   "outputs": [
    {
     "name": "stdout",
     "output_type": "stream",
     "text": [
      "File DimDateTime.csv đã được tạo với 1149120 dòng.\n"
     ]
    }
   ],
   "source": [
    "import csv\n",
    "from datetime import datetime, timedelta\n",
    "\n",
    "start = datetime(2016, 9, 4, 21, 0, 0)\n",
    "end = datetime(2018, 11, 12, 0, 0, 0)\n",
    "\n",
    "filename = 'DimDateTime.csv'\n",
    "\n",
    "with open(filename, mode='w', newline='', encoding='utf-8') as file:\n",
    "    writer = csv.writer(file)\n",
    "    # Header\n",
    "    writer.writerow([\n",
    "        'DateTimeKey', 'DateKey', 'TimeKey', 'Hour', 'Minute', 'Second',\n",
    "        'Day', 'Month', 'Year', 'WeekdayName', 'WeekdayNumber',\n",
    "        'MonthName', 'Quarter', 'IsWeekend'\n",
    "    ])\n",
    "    \n",
    "    current = start\n",
    "    while current <= end:\n",
    "        DateTimeKey = current.strftime('%Y-%m-%d %H:%M:%S')\n",
    "        DateKey = int(current.strftime('%Y%m%d'))\n",
    "        TimeKey = current.hour * 100 + current.minute\n",
    "        Hour = current.hour\n",
    "        Minute = current.minute\n",
    "        Second = current.second\n",
    "        Day = current.day\n",
    "        Month = current.month\n",
    "        Year = current.year\n",
    "        WeekdayName = current.strftime('%A')  # Ex: Monday\n",
    "        WeekdayNumber = current.isoweekday()  # Monday=1,...Sunday=7\n",
    "        MonthName = current.strftime('%B')    # Ex: January\n",
    "        Quarter = (Month - 1) // 3 + 1\n",
    "        IsWeekend = 1 if WeekdayNumber in (6, 7) else 0\n",
    "        \n",
    "        writer.writerow([\n",
    "            DateTimeKey, DateKey, TimeKey, Hour, Minute, Second,\n",
    "            Day, Month, Year, WeekdayName, WeekdayNumber,\n",
    "            MonthName, Quarter, IsWeekend\n",
    "        ])\n",
    "        \n",
    "        current += timedelta(minutes=1)\n",
    "\n",
    "print(f'File {filename} đã được tạo với {((end - start).days * 24 * 60)} dòng.')"
   ]
  }
 ],
 "metadata": {
  "kernelspec": {
   "display_name": "Python 3",
   "language": "python",
   "name": "python3"
  },
  "language_info": {
   "codemirror_mode": {
    "name": "ipython",
    "version": 3
   },
   "file_extension": ".py",
   "mimetype": "text/x-python",
   "name": "python",
   "nbconvert_exporter": "python",
   "pygments_lexer": "ipython3",
   "version": "3.12.1"
  }
 },
 "nbformat": 4,
 "nbformat_minor": 5
}
